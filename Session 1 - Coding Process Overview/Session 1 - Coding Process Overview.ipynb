{
 "cells": [
  {
   "cell_type": "code",
   "execution_count": null,
   "metadata": {},
   "outputs": [],
   "source": [
    "# teaching points\n",
    "# install jupyter\n",
    "# how to access jupyter notebook, codes\n",
    "# how to use jupyter\n",
    "# get familiar with jupyter, worst just close everything and restart"
   ]
  },
  {
   "cell_type": "code",
   "execution_count": null,
   "metadata": {},
   "outputs": [],
   "source": [
    "# string, int, float\n",
    "# str(), int(), float() functions\n",
    "# +-*/, //, %, **\n",
    "# += -=\n",
    "a = 1\n",
    "b = '2'\n",
    "c = 3."
   ]
  },
  {
   "cell_type": "code",
   "execution_count": null,
   "metadata": {},
   "outputs": [],
   "source": [
    "# concatenate different variable types (str and int)\n",
    "a + b\n",
    "\n",
    "# define global variable multiple times\n",
    "a = 40\n",
    "\n",
    "# camelcase, underscore\n",
    "data_type = 0\n",
    "DataType = 1\n",
    "\n",
    "# print, input()\n",
    "print('Hello World!')\n",
    "who = input()\n",
    "print('Hello World from ' + str(who))\n",
    "\n",
    "# shortcut keys, run jupyter row, and run previous rows again\n",
    "# code, markdown, notebook and export as .py\n",
    "\n",
    "# tab function\n",
    "print()"
   ]
  },
  {
   "cell_type": "code",
   "execution_count": 1,
   "metadata": {},
   "outputs": [
    {
     "ename": "ZeroDivisionError",
     "evalue": "division by zero",
     "output_type": "error",
     "traceback": [
      "\u001b[1;31m---------------------------------------------------------------------------\u001b[0m",
      "\u001b[1;31mZeroDivisionError\u001b[0m                         Traceback (most recent call last)",
      "\u001b[1;32m<ipython-input-1-f6cc6d14333b>\u001b[0m in \u001b[0;36m<module>\u001b[1;34m\u001b[0m\n\u001b[1;32m----> 1\u001b[1;33m \u001b[1;36m3\u001b[0m\u001b[1;33m/\u001b[0m\u001b[1;36m0\u001b[0m\u001b[1;33m\u001b[0m\u001b[1;33m\u001b[0m\u001b[0m\n\u001b[0m",
      "\u001b[1;31mZeroDivisionError\u001b[0m: division by zero"
     ]
    }
   ],
   "source": [
    "error handling\n",
    "3/0"
   ]
  },
  {
   "cell_type": "code",
   "execution_count": null,
   "metadata": {},
   "outputs": [],
   "source": [
    "# ==, !=, <, >, <=, >=\n",
    "a += 2\n",
    "\n",
    "# boolean true false\n",
    "a == 4\n",
    "\n",
    "# if else elif\n",
    "if a = 4:\n",
    "    print('a is 4')\n",
    "elif a = 5:\n",
    "    print('a is 5')\n",
    "else:\n",
    "    print('a is something else')\n",
    "\n",
    "# while\n",
    "while True:\n",
    "    print('non stop')\n",
    "    \n",
    "while a < 20:\n",
    "    print(a)\n",
    "    a += 1\n",
    "\n",
    "# try except\n",
    "try:\n",
    "    print(3/0)\n",
    "except:\n",
    "    print('Something is wrong')\n",
    "    \n",
    "# for range\n",
    "for a in range(10):\n",
    "    print(a)\n",
    "    a = a + 1\n",
    "    \n",
    "# import pandas library"
   ]
  },
  {
   "cell_type": "code",
   "execution_count": null,
   "metadata": {},
   "outputs": [],
   "source": [
    "# mutable list, append, len\n",
    "a = []\n",
    "b = 0\n",
    "for b < 20:\n",
    "    print(b)\n",
    "    b = b+1\n",
    "    a.append(b)\n",
    "print(a)\n",
    "\n",
    "# in not in\n",
    "16 in a\n",
    "\n",
    "# change items in list\n",
    "len(a)\n",
    "a[0]\n",
    "print(a)\n",
    "a[0] = 'asdf'\n",
    "print(a)"
   ]
  },
  {
   "cell_type": "code",
   "execution_count": null,
   "metadata": {},
   "outputs": [],
   "source": []
  },
  {
   "cell_type": "code",
   "execution_count": null,
   "metadata": {},
   "outputs": [],
   "source": []
  },
  {
   "cell_type": "code",
   "execution_count": null,
   "metadata": {},
   "outputs": [],
   "source": []
  }
 ],
 "metadata": {
  "kernelspec": {
   "display_name": "Python 3",
   "language": "python",
   "name": "python3"
  },
  "language_info": {
   "codemirror_mode": {
    "name": "ipython",
    "version": 3
   },
   "file_extension": ".py",
   "mimetype": "text/x-python",
   "name": "python",
   "nbconvert_exporter": "python",
   "pygments_lexer": "ipython3",
   "version": "3.7.1"
  }
 },
 "nbformat": 4,
 "nbformat_minor": 2
}
