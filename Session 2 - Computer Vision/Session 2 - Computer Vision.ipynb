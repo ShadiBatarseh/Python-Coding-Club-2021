{
 "cells": [
  {
   "cell_type": "markdown",
   "metadata": {},
   "source": [
    "# Basic materials to go through"
   ]
  },
  {
   "cell_type": "code",
   "execution_count": null,
   "metadata": {},
   "outputs": [],
   "source": [
    "# teaching points\n",
    "# re-visit fundamentals from previous sessions"
   ]
  },
  {
   "cell_type": "code",
   "execution_count": null,
   "metadata": {},
   "outputs": [],
   "source": [
    "# Install packages in Jupyter via the terminal (in the folder structure go new > terminal)\n",
    "# Install instructions can be found on the packages web documentation (google *package_name* python install)\n",
    "# e.g. https://pypi.org/project/opencv-python/\n",
    "\n",
    "import cv2\n",
    "# teaching points\n",
    "# what is the use of packages\n",
    "# u can name imported packages as anything e.g. import cv2 as apple_pie\n",
    "# how to read packages e.g. cv.xxxx (shift tab function)\n",
    "# showcase of examples of functions within each "
   ]
  },
  {
   "cell_type": "code",
   "execution_count": null,
   "metadata": {},
   "outputs": [],
   "source": [
    "from skimage.metrics import structural_similarity\n",
    "# teaching points\n",
    "# what means by the dot after skimage\n",
    "# what's the difference between import xxxx, vs from xxxx import xxxx\n",
    "# we can import xxxx, or import *"
   ]
  },
  {
   "cell_type": "code",
   "execution_count": null,
   "metadata": {},
   "outputs": [],
   "source": [
    "def some_random_function(some_name):\n",
    "    a = some_name + ' is great!'\n",
    "    return a\n",
    "b = some_random_function('python')\n",
    "b\n",
    "\n",
    "b = some_random_function('mott')\n",
    "b\n",
    "\n",
    "# teaching points\n",
    "# how to define functions, why we need to define functions\n",
    "# how to change variables in a function and output different things\n",
    "# Jupyter prints variables that are left by themselves on a line but only prints the last one (cheat method instead of using the print function)"
   ]
  },
  {
   "cell_type": "code",
   "execution_count": null,
   "metadata": {},
   "outputs": [],
   "source": [
    "def some_more_difficult_function(name_one, name_two):\n",
    "    a = name_one + ' say hello to ' + name_two\n",
    "    return a\n",
    "b = some_more_difficult_function('sydney', 'melbourne')\n",
    "b\n",
    "\n",
    "some_more_difficult_function('sydney', 1)\n",
    "\n",
    "# teaching points\n",
    "# defined functions can contain more than one variables inside\n",
    "# can only combine same variable types, e.g. string with string, not string with int"
   ]
  },
  {
   "cell_type": "code",
   "execution_count": null,
   "metadata": {},
   "outputs": [],
   "source": [
    "def a_very_complicated_function(name_three):\n",
    "    a = name_three + str(2+3)\n",
    "    return a\n",
    "\n",
    "b = a_very_complicated_function('what is ')\n",
    "b\n",
    "# teaching points\n",
    "# functions within functions\n",
    "# global variables, i.e. b\n",
    "# local varilables, i.e. a"
   ]
  },
  {
   "cell_type": "code",
   "execution_count": null,
   "metadata": {},
   "outputs": [],
   "source": [
    "def i_cannot_believe_there_is_still_more(name_four, what_function):\n",
    "    a = name_four + what_function\n",
    "    return a\n",
    "\n",
    "b = i_cannot_believe_there_is_still_more('did someone say ', some_random_function('mott'))\n",
    "b\n",
    "# teaching points\n",
    "# functions within functinos\n",
    "# try to change different variables using the same function above"
   ]
  },
  {
   "cell_type": "code",
   "execution_count": null,
   "metadata": {},
   "outputs": [],
   "source": [
    "def yet_more_functions(name_five, name_six):\n",
    "    a = name_five + ' says hi'\n",
    "    b = name_six + ' says bye'\n",
    "    c = 'says hello'\n",
    "    return a, b\n",
    "\n",
    "x, y = yet_more_functions('john', 'mary')\n",
    "print(x, y)\n",
    "# teaching points\n",
    "# functions returning multiple values\n",
    "# naming of global variables\n",
    "# how to print multiple values in a single line using print\n",
    "# local variables does not get called out, unless we return it\n",
    "# x, y are returned as list, how to retrieve them as [0], [1]\n",
    "# can return as many output as we wish as long as we define it"
   ]
  },
  {
   "cell_type": "code",
   "execution_count": null,
   "metadata": {},
   "outputs": [],
   "source": [
    "print('something')\n",
    "cv2.imread()\n",
    "cv2.cvtColor()\n",
    "cv2.imshow()\n",
    "cv2.destroyAllWindows\n",
    "# teaching points\n",
    "# use shift-tab to read the doc of functions\n",
    "# use shift-tab-tab to read full length doc\n",
    "# use tab to complete half-typed functions"
   ]
  },
  {
   "cell_type": "code",
   "execution_count": null,
   "metadata": {},
   "outputs": [],
   "source": [
    "a = 5\n",
    "b = 10\n",
    "if a < 3 and b < 6:\n",
    "    print('if statement is executed')\n",
    "# teaching point\n",
    "# multiple test in if statement\n",
    "# try to change the variables and see if print will be executed"
   ]
  },
  {
   "cell_type": "code",
   "execution_count": null,
   "metadata": {},
   "outputs": [],
   "source": [
    "a = 5\n",
    "b = 10\n",
    "if a < 3 or b < 60:\n",
    "    print('if statement is executed')\n",
    "# teaching point\n",
    "# and verses or\n",
    "# can replace or with |"
   ]
  },
  {
   "cell_type": "code",
   "execution_count": null,
   "metadata": {},
   "outputs": [],
   "source": [
    "a = [1,2,3,4,5]\n",
    "for i in a:\n",
    "    print(i)\n",
    "    print(i+4)\n",
    "# teaching points\n",
    "# for loop to retrieve list items one by one\n",
    "# can trieve items, and operate on them at the same time and return"
   ]
  },
  {
   "cell_type": "code",
   "execution_count": null,
   "metadata": {},
   "outputs": [],
   "source": [
    "a = [[0,1], [2,3,4], [5,6], 'mott', 3.14]\n",
    "a[0]\n",
    "a[0][1]\n",
    "# teaching points\n",
    "# list of list\n",
    "# how to retrieve particular item from list\n",
    "# how to append additional items from list\n",
    "# how to modify items from list, e.g. a[1] = 14, then return a again"
   ]
  },
  {
   "cell_type": "code",
   "execution_count": null,
   "metadata": {},
   "outputs": [],
   "source": [
    "PATH = r\"C:\\Users\\ble89765\\OneDrive - Mott MacDonald\\Coding\\Coding Clubs\\Python\\2021\\Session 2 - Computer Vision\\photo set 1\"\n",
    "PATH + 'IMG_6178.JPG'\n",
    "# teaching point\n",
    "# how to use combined string to effectively retrieve files from the same path\n",
    "# use # to comment, markdown\n",
    "\n",
    "# IMAGE_LIST = [\n",
    "#     'IMG_6178.JPG',\n",
    "#     'IMG_6179.JPG',\n",
    "#     'IMG_6180.JPG',\n",
    "#     'IMG_6181.JPG'\n",
    "# ]\n",
    "\n",
    "# for image in IMAGE_LIST:\n",
    "#     print(PATH + image)"
   ]
  },
  {
   "cell_type": "code",
   "execution_count": null,
   "metadata": {},
   "outputs": [],
   "source": []
  },
  {
   "cell_type": "code",
   "execution_count": null,
   "metadata": {},
   "outputs": [],
   "source": []
  },
  {
   "cell_type": "code",
   "execution_count": null,
   "metadata": {},
   "outputs": [],
   "source": []
  },
  {
   "cell_type": "code",
   "execution_count": null,
   "metadata": {},
   "outputs": [],
   "source": []
  },
  {
   "cell_type": "code",
   "execution_count": null,
   "metadata": {},
   "outputs": [],
   "source": []
  },
  {
   "cell_type": "code",
   "execution_count": null,
   "metadata": {},
   "outputs": [],
   "source": []
  },
  {
   "cell_type": "markdown",
   "metadata": {},
   "source": [
    "# Advanced materials to be selected"
   ]
  },
  {
   "cell_type": "markdown",
   "metadata": {},
   "source": [
    "## Example 1 (remove unwanted object)"
   ]
  },
  {
   "cell_type": "code",
   "execution_count": null,
   "metadata": {},
   "outputs": [],
   "source": [
    "import cv2# as apple_pie"
   ]
  },
  {
   "cell_type": "code",
   "execution_count": null,
   "metadata": {},
   "outputs": [],
   "source": [
    "flags_telea = cv2.INPAINT_TELEA\n",
    "flags_ns = cv2.INPAINT_NS"
   ]
  },
  {
   "cell_type": "code",
   "execution_count": null,
   "metadata": {
    "scrolled": false
   },
   "outputs": [],
   "source": [
    "# try both 1a and 1b\n",
    "image = cv2.imread(r\"C:\\Users\\ble89765\\OneDrive - Mott MacDonald\\Coding\\Coding Clubs\\Python\\2021\\Session 2 - Computer Vision\\Example 1b.jpg\")\n",
    "mask = cv2.imread(r\"C:\\Users\\ble89765\\OneDrive - Mott MacDonald\\Coding\\Coding Clubs\\Python\\2021\\Session 2 - Computer Vision\\Example 1b - Copy.jpg\")\n",
    "mask = cv2.cvtColor(mask, cv2.COLOR_BGR2GRAY)\n",
    "\n",
    "output = cv2.inpaint(image, mask, 10, flags=flags_telea)\n",
    "\n",
    "cv2.imshow('Image', image)\n",
    "cv2.imshow('Mask', mask)\n",
    "cv2.imshow('Output', output)\n",
    "cv2.waitKey(0)\n",
    "cv2.destroyAllWindows()"
   ]
  },
  {
   "cell_type": "code",
   "execution_count": null,
   "metadata": {},
   "outputs": [],
   "source": [
    "# teaching points\n",
    "# how it relates to daily work\n",
    "# pip install --user --trusted-host files.pythonhosted.org --trusted-host pypi.org xxxx\n",
    "# simplicity of code and power of libraries\n",
    "# coding structure: import, define, process\n",
    "# explain each line doing what\n",
    "# explain what's use of .\n",
    "# shift tab to read doc\n",
    "# how to change variables in code\n",
    "# tab to open available functions\n",
    "# good practice of define variables ahead\n",
    "# comment out whole line or # partially\n",
    "# markdown\n",
    "# how to make code more readable like writing comprehension\n",
    "# order of running code / lines\n",
    "# global and local variables\n",
    "# import as\n",
    "# shortcut keys to run all, run above, run below, terminate\n",
    "# inspect array of image to relate what was learnt in theory"
   ]
  },
  {
   "cell_type": "markdown",
   "metadata": {},
   "source": [
    "## Example 2 (incomplete panorama)"
   ]
  },
  {
   "cell_type": "code",
   "execution_count": null,
   "metadata": {},
   "outputs": [],
   "source": [
    "import cv2\n",
    "import numpy as np\n",
    "from imutils import paths"
   ]
  },
  {
   "cell_type": "code",
   "execution_count": null,
   "metadata": {},
   "outputs": [],
   "source": [
    "input_path = str(r\"C:\\Users\\ble89765\\OneDrive - Mott MacDonald\\Coding\\Coding Clubs\\Python\\2021\\Session 2 - Computer Vision\\photo set 2\")\n",
    "output_path = str(r\"C:\\Users\\ble89765\\OneDrive - Mott MacDonald\\Coding\\Coding Clubs\\Python\\2021\\Session 2 - Computer Vision\\photo set 2\")"
   ]
  },
  {
   "cell_type": "code",
   "execution_count": null,
   "metadata": {},
   "outputs": [],
   "source": [
    "imagePaths = sorted(list(paths.list_images(input_path)))\n",
    "images = []\n",
    "for i in imagePaths:\n",
    "    image = cv2.imread(i)\n",
    "    image = cv2.resize(image, (0,0), fx=0.25, fy=0.25) # use this line if cv::OutOfMemoryError\n",
    "    images.append(image)"
   ]
  },
  {
   "cell_type": "code",
   "execution_count": null,
   "metadata": {
    "scrolled": true
   },
   "outputs": [],
   "source": [
    "cv2.imshow('image',cv2.Stitcher_create().stitch(images)[1])\n",
    "cv2.waitKey(0)\n",
    "cv2.destroyAllWindows()"
   ]
  },
  {
   "cell_type": "code",
   "execution_count": null,
   "metadata": {},
   "outputs": [],
   "source": [
    "cv2.imwrite(output_path + str('\\\\') + str('done.jpg'), cv2.Stitcher_create().stitch(images)[1])"
   ]
  },
  {
   "cell_type": "code",
   "execution_count": null,
   "metadata": {},
   "outputs": [],
   "source": [
    "# teaching points\n",
    "# how to use list and append\n",
    "# for loop\n",
    "# try inspect some images from the list appended\n",
    "# learn list length\n",
    "# learn resize\n",
    "# simple one line can stitch, learn read library doc\n",
    "# learn write image\n",
    "# learn about file path, string, int, float\n",
    "# learn if statement\n",
    "# multiple output from one line\n",
    "# time library, %%time\n",
    "# appreciate the wealth of library and research papers behind"
   ]
  },
  {
   "cell_type": "markdown",
   "metadata": {},
   "source": [
    "## Example 3 (compare images)"
   ]
  },
  {
   "cell_type": "code",
   "execution_count": null,
   "metadata": {},
   "outputs": [],
   "source": [
    "from pdf2image import convert_from_path\n",
    "import numpy as np\n",
    "import cv2\n",
    "import imutils\n",
    "from skimage.metrics import structural_similarity"
   ]
  },
  {
   "cell_type": "code",
   "execution_count": null,
   "metadata": {},
   "outputs": [],
   "source": [
    "# download poppler https://github.com/oschwartz10612/poppler-windows/releases/\n",
    "# unzip\n",
    "img1 = convert_from_path(r\"C:\\Users\\ble89765\\OneDrive - Mott MacDonald\\Coding\\Coding Clubs\\Python\\2021\\Session 2 - Computer Vision\\Example 2.pdf\",\n",
    "                        poppler_path = r\"C:\\Users\\ble89765\\OneDrive - Mott MacDonald\\Coding\\Coding Clubs\\Python\\2021\\Session 2 - Computer Vision\\poppler-21.03.0\\Library\\bin\")\n",
    "img1 = np.asarray(img1[0])\n",
    "\n",
    "img2 = convert_from_path(r\"C:\\Users\\ble89765\\OneDrive - Mott MacDonald\\Coding\\Coding Clubs\\Python\\2021\\Session 2 - Computer Vision\\Example 2 - Copy.pdf\",\n",
    "                        poppler_path = r\"C:\\Users\\ble89765\\OneDrive - Mott MacDonald\\Coding\\Coding Clubs\\Python\\2021\\Session 2 - Computer Vision\\poppler-21.03.0\\Library\\bin\")\n",
    "img2 = np.asarray(img2[0])"
   ]
  },
  {
   "cell_type": "code",
   "execution_count": null,
   "metadata": {},
   "outputs": [],
   "source": [
    "min_dimension = 1 #25\n",
    "\n",
    "img1 = cv2.resize(img1, (0,0), fx=0.5, fy=0.5)\n",
    "img2 = cv2.resize(img2, (0,0), fx=0.5, fy=0.5)\n",
    "\n",
    "img1_bw = cv2.cvtColor(img1, cv2.COLOR_BGR2GRAY)\n",
    "img2_bw = cv2.cvtColor(img2, cv2.COLOR_BGR2GRAY)\n",
    "\n",
    "score, diff = structural_similarity(img1_bw, img2_bw, full=True)\n",
    "diff = (diff * 255).astype(\"uint8\")\n",
    "thresh = cv2.threshold(diff, 0, 255, cv2.THRESH_BINARY_INV | cv2.THRESH_OTSU)[1]\n",
    "cnts = cv2.findContours(thresh.copy(), cv2.RETR_EXTERNAL, cv2.CHAIN_APPROX_SIMPLE)\n",
    "cnts = imutils.grab_contours(cnts)\n",
    "\n",
    "for cnt in cnts:\n",
    "    x, y, w, h = cv2.boundingRect(cnt)\n",
    "    if w > min_dimension and h > min_dimension:\n",
    "        cv2.rectangle(img1, (x,y), (x+w,y+h), (0,0,255), 2)\n",
    "#         cv2.circle(img1, (x,y), 10, (0,0,255), 2)\n",
    "\n",
    "cv2.imshow('img1',img1)\n",
    "cv2.imshow('img2',img2)\n",
    "cv2.waitKey(0)\n",
    "cv2.destroyAllWindows()"
   ]
  },
  {
   "cell_type": "code",
   "execution_count": null,
   "metadata": {},
   "outputs": [],
   "source": [
    "# teaching points\n",
    "# explain each line doing what\n",
    "# try convert BGR to RGB\n",
    "# change colour of rectangular box\n",
    "# change file path\n",
    "# read .circle and see what can be changed\n",
    "# compare rectangle and circle\n",
    "# change min dimension for better results"
   ]
  },
  {
   "cell_type": "code",
   "execution_count": null,
   "metadata": {},
   "outputs": [],
   "source": []
  },
  {
   "cell_type": "code",
   "execution_count": null,
   "metadata": {},
   "outputs": [],
   "source": []
  },
  {
   "cell_type": "code",
   "execution_count": null,
   "metadata": {},
   "outputs": [],
   "source": []
  },
  {
   "cell_type": "code",
   "execution_count": null,
   "metadata": {},
   "outputs": [],
   "source": []
  }
 ],
 "metadata": {
  "kernelspec": {
   "display_name": "Python 3",
   "language": "python",
   "name": "python3"
  },
  "language_info": {
   "codemirror_mode": {
    "name": "ipython",
    "version": 3
   },
   "file_extension": ".py",
   "mimetype": "text/x-python",
   "name": "python",
   "nbconvert_exporter": "python",
   "pygments_lexer": "ipython3",
   "version": "3.7.1"
  }
 },
 "nbformat": 4,
 "nbformat_minor": 2
}
